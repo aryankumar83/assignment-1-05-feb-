{
 "cells": [
  {
   "cell_type": "code",
   "execution_count": 15,
   "id": "62221610",
   "metadata": {},
   "outputs": [],
   "source": [
    "# que 1 :\n",
    "# Classes are user-defined data types that act as the blueprint for individual objects, attributes and methods.\n",
    "# Objects are instances of a class created with specifically defined data.\n",
    "class test1:\n",
    "    def test(self):\n",
    "        return \"aryan\"\n",
    "        "
   ]
  },
  {
   "cell_type": "code",
   "execution_count": 16,
   "id": "cc81262f",
   "metadata": {},
   "outputs": [],
   "source": [
    "obj = test1()"
   ]
  },
  {
   "cell_type": "code",
   "execution_count": 17,
   "id": "2d805761",
   "metadata": {},
   "outputs": [
    {
     "data": {
      "text/plain": [
       "'aryan'"
      ]
     },
     "execution_count": 17,
     "metadata": {},
     "output_type": "execute_result"
    }
   ],
   "source": [
    "obj.test()"
   ]
  },
  {
   "cell_type": "code",
   "execution_count": 18,
   "id": "e870a33e",
   "metadata": {},
   "outputs": [],
   "source": [
    "# que 2 :\n",
    "# the four pillars of OOPs are : \n",
    "# Abstraction,Encapsulation,Inheritance,Polymorphism."
   ]
  },
  {
   "cell_type": "code",
   "execution_count": 21,
   "id": "a1811bfa",
   "metadata": {},
   "outputs": [],
   "source": [
    "# que 3 : \n",
    "# The __init__ method lets the class initialize the object's attributes and serves no other purpose\n",
    "class test2:\n",
    "    def __init__ (self,name,surname):\n",
    "        self.name = name\n",
    "        self.surname = surname\n",
    "    def return_test(self):\n",
    "        return self.name,self.surname"
   ]
  },
  {
   "cell_type": "code",
   "execution_count": 23,
   "id": "79bd518f",
   "metadata": {},
   "outputs": [],
   "source": [
    "obj = test2(\"aryan\",\"kumar\")"
   ]
  },
  {
   "cell_type": "code",
   "execution_count": 24,
   "id": "00db2cde",
   "metadata": {},
   "outputs": [
    {
     "data": {
      "text/plain": [
       "('aryan', 'kumar')"
      ]
     },
     "execution_count": 24,
     "metadata": {},
     "output_type": "execute_result"
    }
   ],
   "source": [
    "obj.return_test()"
   ]
  },
  {
   "cell_type": "code",
   "execution_count": 25,
   "id": "bac83151",
   "metadata": {},
   "outputs": [],
   "source": [
    "# que 4 :\n",
    "# The self variable is used to represent the instance of the class which is often used in object-oriented programming."
   ]
  },
  {
   "cell_type": "code",
   "execution_count": 26,
   "id": "9242bd1e",
   "metadata": {},
   "outputs": [],
   "source": [
    "# que 5 :\n",
    "# Inheritance allows us to define a class that inherits all the methods and properties from another class.\n",
    "# multi level Inhertance : \n",
    "class parent1:\n",
    "    def par1(self):\n",
    "        return \"parent1\"\n",
    "class child_gen1(parent1):\n",
    "    def chi1(self):\n",
    "        return \"child_generation_1\"\n",
    "class child_gen2(child_gen1):\n",
    "    pass"
   ]
  },
  {
   "cell_type": "code",
   "execution_count": 29,
   "id": "468b08dc",
   "metadata": {},
   "outputs": [
    {
     "data": {
      "text/plain": [
       "'child_generation_1'"
      ]
     },
     "execution_count": 29,
     "metadata": {},
     "output_type": "execute_result"
    }
   ],
   "source": [
    "obj_child_gen2 = child_gen2()\n",
    "obj_child_gen2.chi1()"
   ]
  },
  {
   "cell_type": "code",
   "execution_count": 30,
   "id": "743d01a7",
   "metadata": {},
   "outputs": [
    {
     "data": {
      "text/plain": [
       "'parent1'"
      ]
     },
     "execution_count": 30,
     "metadata": {},
     "output_type": "execute_result"
    }
   ],
   "source": [
    "obj_child_gen2.par1()"
   ]
  },
  {
   "cell_type": "code",
   "execution_count": null,
   "id": "3d8435af",
   "metadata": {},
   "outputs": [],
   "source": []
  }
 ],
 "metadata": {
  "kernelspec": {
   "display_name": "Python 3 (ipykernel)",
   "language": "python",
   "name": "python3"
  },
  "language_info": {
   "codemirror_mode": {
    "name": "ipython",
    "version": 3
   },
   "file_extension": ".py",
   "mimetype": "text/x-python",
   "name": "python",
   "nbconvert_exporter": "python",
   "pygments_lexer": "ipython3",
   "version": "3.10.9"
  }
 },
 "nbformat": 4,
 "nbformat_minor": 5
}
